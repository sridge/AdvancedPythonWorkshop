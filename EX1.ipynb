{
 "cells": [
  {
   "cell_type": "code",
   "execution_count": null,
   "metadata": {},
   "outputs": [],
   "source": [
    "# ____(adjective) is better than ugly.\n",
    "# ____(adjective) is better than implicit.\n",
    "# Simple is better than ___(adjective).\n",
    "# Complex is better than complicated.\n",
    "# Flat is better than nested.\n",
    "# Sparse is better than dense.\n",
    "# Readability counts.\n",
    "# Special ___(plural noun) aren't special enough to break the rules.\n",
    "# Although practicality beats purity.\n",
    "# Errors should never ___(verb) silently.\n",
    "# Unless explicitly silenced.\n",
    "# In the face of ambiguity,  ___(verb) the temptation to guess.\n",
    "# There should be one-- and preferably only one --obvious way to do it.\n",
    "# Although that way may not be obvious at first unless you're  ___(nationality).\n",
    "# Now is better than never.\n",
    "# Although never is often better than *right* now.\n",
    "# If the implementation is hard to explain, it's a bad ___(noun).\n",
    "# If the implementation is easy to explain, it may be a good ___(noun).\n",
    "# Namespaces are one honking great idea -- let's do more of those!"
   ]
  },
  {
   "cell_type": "code",
   "execution_count": null,
   "metadata": {},
   "outputs": [],
   "source": [
    "words = dict()"
   ]
  },
  {
   "cell_type": "code",
   "execution_count": null,
   "metadata": {},
   "outputs": [],
   "source": [
    "print()"
   ]
  }
 ],
 "metadata": {
  "kernelspec": {
   "display_name": "Python 3",
   "language": "python",
   "name": "python3"
  },
  "language_info": {
   "codemirror_mode": {
    "name": "ipython",
    "version": 3
   },
   "file_extension": ".py",
   "mimetype": "text/x-python",
   "name": "python",
   "nbconvert_exporter": "python",
   "pygments_lexer": "ipython3",
   "version": "3.6.7"
  }
 },
 "nbformat": 4,
 "nbformat_minor": 2
}
