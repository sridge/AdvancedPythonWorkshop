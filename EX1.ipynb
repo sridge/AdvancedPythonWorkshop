{
 "cells": [
  {
   "cell_type": "code",
   "execution_count": 5,
   "metadata": {},
   "outputs": [],
   "source": [
    "words = dict()\n",
    "words['adjective'] = ['tall','scary','flat']\n",
    "words['plural noun'] = ['rocketships']\n",
    "words['verb'] = ['running','skipping']\n",
    "words['nationality'] = ['Canadian']\n",
    "words['noun'] = ['bacon','water buffalo']"
   ]
  },
  {
   "cell_type": "code",
   "execution_count": 6,
   "metadata": {},
   "outputs": [],
   "source": [
    "a = f'''{words['adjective'][0]} is better than ugly.\n",
    "{words['adjective'][1]}  is better than implicit.\n",
    "Simple is better than {words['adjective'][2]}.\n",
    "Complex is better than complicated.\n",
    "Flat is better than nested.\n",
    "Sparse is better than dense.\n",
    "Readability counts.\n",
    "Special {words['plural noun'][0]} aren't special enough to break the rules.\n",
    "Although practicality beats purity.\n",
    "Errors should never {words['verb'][0]} silently.\n",
    "Unless explicitly silenced.\n",
    "In the face of ambiguity, {words['verb'][1]} the temptation to guess.\n",
    "There should be one-- and preferably only one --obvious way to do it.\n",
    "Although that way may not be obvious at first unless you're {words['nationality'][0]}.\n",
    "Now is better than never.\n",
    "Although never is often better than *right* now.\n",
    "If the implementation is hard to explain, it's a bad {words['noun'][0]}.\n",
    "If the implementation is easy to explain, it may be a good {words['noun'][1]}.\n",
    "Namespaces are one honking great idea -- let's do more of those!'''"
   ]
  },
  {
   "cell_type": "code",
   "execution_count": 8,
   "metadata": {},
   "outputs": [
    {
     "name": "stdout",
     "output_type": "stream",
     "text": [
      "tall is better than ugly.\n",
      "scary  is better than implicit.\n",
      "Simple is better than flat.\n",
      "Complex is better than complicated.\n",
      "Flat is better than nested.\n",
      "Sparse is better than dense.\n",
      "Readability counts.\n",
      "Special rocketships aren't special enough to break the rules.\n",
      "Although practicality beats purity.\n",
      "Errors should never running silently.\n",
      "Unless explicitly silenced.\n",
      "In the face of ambiguity, skipping the temptation to guess.\n",
      "There should be one-- and preferably only one --obvious way to do it.\n",
      "Although that way may not be obvious at first unless you're Canadian.\n",
      "Now is better than never.\n",
      "Although never is often better than *right* now.\n",
      "If the implementation is hard to explain, it's a bad bacon.\n",
      "If the implementation is easy to explain, it may be a good water buffalo.\n",
      "Namespaces are one honking great idea -- let's do more of those!\n"
     ]
    }
   ],
   "source": [
    "print(a)"
   ]
  },
  {
   "cell_type": "code",
   "execution_count": null,
   "metadata": {},
   "outputs": [],
   "source": [
    "# ____(adjective) is better than ugly.\n",
    "# ____(adjective) is better than implicit.\n",
    "# Simple is better than ___(adjective).\n",
    "# Complex is better than complicated.\n",
    "# Flat is better than nested.\n",
    "# Sparse is better than dense.\n",
    "# Readability counts.\n",
    "# Special ___(plural noun) aren't special enough to break the rules.\n",
    "# Although practicality beats purity.\n",
    "# Errors should never ___(verb) silently.\n",
    "# Unless explicitly silenced.\n",
    "# In the face of ambiguity,  ___(verb) the temptation to guess.\n",
    "# There should be one-- and preferably only one --obvious way to do it.\n",
    "# Although that way may not be obvious at first unless you're  ___(nationality).\n",
    "# Now is better than never.\n",
    "# Although never is often better than *right* now.\n",
    "# If the implementation is hard to explain, it's a bad ___(noun).\n",
    "# If the implementation is easy to explain, it may be a good ___(noun).\n",
    "# Namespaces are one honking great idea -- let's do more of those!"
   ]
  },
  {
   "cell_type": "code",
   "execution_count": null,
   "metadata": {},
   "outputs": [],
   "source": [
    "words = dict()"
   ]
  },
  {
   "cell_type": "code",
   "execution_count": null,
   "metadata": {},
   "outputs": [],
   "source": [
    "print()"
   ]
  }
 ],
 "metadata": {
  "kernelspec": {
   "display_name": "Python 3",
   "language": "python",
   "name": "python3"
  },
  "language_info": {
   "codemirror_mode": {
    "name": "ipython",
    "version": 3
   },
   "file_extension": ".py",
   "mimetype": "text/x-python",
   "name": "python",
   "nbconvert_exporter": "python",
   "pygments_lexer": "ipython3",
   "version": "3.6.7"
  }
 },
 "nbformat": 4,
 "nbformat_minor": 2
}
