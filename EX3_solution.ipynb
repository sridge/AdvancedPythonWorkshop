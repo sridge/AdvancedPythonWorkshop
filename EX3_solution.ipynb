{
 "cells": [
  {
   "cell_type": "code",
   "execution_count": 33,
   "metadata": {},
   "outputs": [],
   "source": [
    "import random\n",
    "\n",
    "class die:\n",
    "\n",
    "    def __init__(self,nsides=6):\n",
    "        self.sides = nsides\n",
    "\n",
    "    def update_sides(self, nsides):\n",
    "        self.sides = nsides\n",
    "    \n",
    "    def roll(self):\n",
    "        return random.randint(1,self.sides)\n",
    "\n",
    "def rolling_the_dice(dice_sides):\n",
    "    \n",
    "    dice = []\n",
    "    \n",
    "    for nsides in dice_sides:\n",
    "        dice = dice + [die(nsides)]\n",
    "    \n",
    "    return [die.roll() for die in dice]     "
   ]
  },
  {
   "cell_type": "code",
   "execution_count": 36,
   "metadata": {},
   "outputs": [
    {
     "data": {
      "text/plain": [
       "[1, 1, 1]"
      ]
     },
     "execution_count": 36,
     "metadata": {},
     "output_type": "execute_result"
    }
   ],
   "source": [
    "rolling_the_dice([1,1,1])"
   ]
  }
 ],
 "metadata": {
  "kernelspec": {
   "display_name": "Python 3",
   "language": "python",
   "name": "python3"
  },
  "language_info": {
   "codemirror_mode": {
    "name": "ipython",
    "version": 3
   },
   "file_extension": ".py",
   "mimetype": "text/x-python",
   "name": "python",
   "nbconvert_exporter": "python",
   "pygments_lexer": "ipython3",
   "version": "3.6.7"
  }
 },
 "nbformat": 4,
 "nbformat_minor": 2
}
